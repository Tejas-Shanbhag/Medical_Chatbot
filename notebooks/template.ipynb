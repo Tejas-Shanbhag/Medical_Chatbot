{
 "cells": [
  {
   "cell_type": "markdown",
   "metadata": {},
   "source": [
    "# Medical Chatbot"
   ]
  },
  {
   "cell_type": "code",
   "execution_count": 5,
   "metadata": {},
   "outputs": [],
   "source": [
    "import numpy as numpy\n",
    "import pandas as pd\n",
    "import os\n",
    "from langchain.document_loaders import PyPDFLoader\n",
    "from langchain.text_splitter import RecursiveCharacterTextSplitter\n",
    "from langchain_huggingface import HuggingFaceEmbeddings\n",
    "from dotenv import load_dotenv\n",
    "\n",
    "load_dotenv()\n",
    "PINECONE_API_KEY = os.environ.get(\"PINECONE_API_KEY\")\n",
    "OPENAI_API_KEY = os.environ.get(\"OPENAI_API_KEY\")\n"
   ]
  },
  {
   "cell_type": "code",
   "execution_count": 2,
   "metadata": {},
   "outputs": [],
   "source": [
    "def load_pdf(path):\n",
    "    loader = PyPDFLoader(path)\n",
    "    documents = loader.load()\n",
    "    return documents\n",
    "\n",
    "def split_data(input_docs):\n",
    "    splitter = RecursiveCharacterTextSplitter(chunk_size=500,chunk_overlap=20)\n",
    "    final_documents = splitter.split_documents(input_docs)\n",
    "    return final_documents\n",
    "\n",
    "\n"
   ]
  },
  {
   "cell_type": "code",
   "execution_count": 4,
   "metadata": {},
   "outputs": [
    {
     "name": "stderr",
     "output_type": "stream",
     "text": [
      "c:\\Users\\Tejas\\miniconda3\\envs\\genai\\lib\\site-packages\\tqdm\\auto.py:21: TqdmWarning: IProgress not found. Please update jupyter and ipywidgets. See https://ipywidgets.readthedocs.io/en/stable/user_install.html\n",
      "  from .autonotebook import tqdm as notebook_tqdm\n"
     ]
    }
   ],
   "source": [
    "input_data = load_pdf(\"../data/Medical_book.pdf\")\n",
    "final_documents = split_data(input_data)\n",
    "embeddings = get_huggingface_embeddings()"
   ]
  },
  {
   "cell_type": "markdown",
   "metadata": {},
   "source": [
    "# Create Vectorstore Embeddings using Pinecone"
   ]
  },
  {
   "cell_type": "code",
   "execution_count": null,
   "metadata": {},
   "outputs": [],
   "source": [
    "from langchain_pinecone import PineconeVectorStore,Pinecone\n",
    "\n",
    "docstore = PineconeVectorStore.from_documents(documents=final_documents,embedding=embeddings,index_name=\"medical-chatbot\",\n",
    "                                              pinecone_api_key=PINECONE_API_KEY)\n",
    "\n"
   ]
  },
  {
   "cell_type": "code",
   "execution_count": 33,
   "metadata": {},
   "outputs": [],
   "source": [
    "retriever = docstore.as_retriever(search_type='similarity',search_kwargs={\"k\":5})"
   ]
  },
  {
   "cell_type": "code",
   "execution_count": 114,
   "metadata": {},
   "outputs": [
    {
     "data": {
      "text/plain": [
       "[Document(id='b6c8c966-24e2-4061-9353-83640746f5ae', metadata={'page': 43.0, 'source': '../data/Medical_book.pdf'}, page_content='and other tumors.'),\n",
       " Document(id='59c9d595-351f-4044-affb-07d7361de316', metadata={'page': 591.0, 'source': '../data/Medical_book.pdf'}, page_content='cancer tospread to other organs of the body.'),\n",
       " Document(id='3cb94595-135e-420f-bea5-011df4766bce', metadata={'page': 593.0, 'source': '../data/Medical_book.pdf'}, page_content='GALE ENCYCLOPEDIA OF MEDICINE 2 580Breast cancerGEM -0433 to 0624 - B  10/22/03 6:09 PM  Page 580'),\n",
       " Document(id='4f2f8e16-7087-4127-8049-84a677e0c210', metadata={'page': 590.0, 'source': '../data/Medical_book.pdf'}, page_content='GALE ENCYCLOPEDIA OF MEDICINE 2 577Breast cancerGEM -0433 to 0624 - B  10/22/03 6:08 PM  Page 577'),\n",
       " Document(id='34b37b41-10b1-4454-bc62-46558b7327be', metadata={'page': 595.0, 'source': '../data/Medical_book.pdf'}, page_content='DRUG THERAPY. Many breast cancers, particularly')]"
      ]
     },
     "execution_count": 114,
     "metadata": {},
     "output_type": "execute_result"
    }
   ],
   "source": [
    "retriever.invoke(\"cancer?\")"
   ]
  },
  {
   "cell_type": "markdown",
   "metadata": {},
   "source": [
    "# Load LLM Model and Create a Prompt"
   ]
  },
  {
   "cell_type": "code",
   "execution_count": 68,
   "metadata": {},
   "outputs": [],
   "source": [
    "from langchain_openai import OpenAI,ChatOpenAI\n",
    "\n",
    "llm = ChatOpenAI(model=\"gpt-4o-mini\",temperature=0.1,max_tokens=500,api_key=OPENAI_API_KEY)"
   ]
  },
  {
   "cell_type": "code",
   "execution_count": 110,
   "metadata": {},
   "outputs": [],
   "source": [
    "from langchain.chains import create_retrieval_chain\n",
    "from langchain.chains.combine_documents import create_stuff_documents_chain\n",
    "from langchain_core.prompts import ChatPromptTemplate\n",
    "\n",
    "system_prompt = (\n",
    "            \"You are an assistant for question-answering tasks. \"\n",
    "            \"Use the following pieces of retrieved context to answer the question.\"\n",
    "            \"If you don't know the answer or any question is out of context just say that you don't know.\"\n",
    "            \"Use three sentences maximum and keep the answer concise.\"\n",
    "            \"\\n\\n\"\n",
    "            \"Context:{context}\"\n",
    ")\n",
    "\n",
    "prompt = ChatPromptTemplate.from_messages(\n",
    "    [\n",
    "        (\"system\",system_prompt),\n",
    "        (\"human\",\"{input}\")\n",
    "    ]\n",
    ")"
   ]
  },
  {
   "cell_type": "code",
   "execution_count": 111,
   "metadata": {},
   "outputs": [],
   "source": [
    "question_answer_chain = create_stuff_documents_chain(llm,prompt)\n",
    "rag_chain = create_retrieval_chain(retriever,question_answer_chain)"
   ]
  },
  {
   "cell_type": "code",
   "execution_count": 115,
   "metadata": {},
   "outputs": [
    {
     "name": "stdout",
     "output_type": "stream",
     "text": [
      "Kidney failure can be caused by various conditions categorized into prerenal, postrenal, and intrarenal factors. Common causes include dehydration, hemorrhage, septicemia, heart failure, liver failure, and urinary tract obstructions such as prostate gland issues or tumors. Additionally, direct kidney disease, injury, or adverse reactions to medications can also lead to kidney failure.\n"
     ]
    }
   ],
   "source": [
    "response = rag_chain.invoke({\"input\" :\"What are causes of Kidney Failure?\"})\n",
    "print(response['answer'])"
   ]
  },
  {
   "cell_type": "code",
   "execution_count": null,
   "metadata": {},
   "outputs": [],
   "source": []
  }
 ],
 "metadata": {
  "kernelspec": {
   "display_name": "genai",
   "language": "python",
   "name": "python3"
  },
  "language_info": {
   "codemirror_mode": {
    "name": "ipython",
    "version": 3
   },
   "file_extension": ".py",
   "mimetype": "text/x-python",
   "name": "python",
   "nbconvert_exporter": "python",
   "pygments_lexer": "ipython3",
   "version": "3.10.14"
  }
 },
 "nbformat": 4,
 "nbformat_minor": 2
}
